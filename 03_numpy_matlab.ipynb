{
 "cells": [
  {
   "cell_type": "markdown",
   "metadata": {
    "slideshow": {
     "slide_type": "subslide"
    }
   },
   "source": [
    "# NumPy for Matlab Users (really?)\n",
    "\n",
    "\n",
    "If you are a MATLAB&reg; user I do recommend to read [Numpy for MATLAB Users](https://docs.scipy.org/doc/numpy-1.15.0/user/numpy-for-matlab-users.html)."
   ]
  },
  {
   "cell_type": "markdown",
   "metadata": {},
   "source": [
    "### Numpy can load and save native MATLAB® files:"
   ]
  },
  {
   "cell_type": "code",
   "execution_count": 1,
   "metadata": {},
   "outputs": [],
   "source": [
    "import numpy as np"
   ]
  },
  {
   "cell_type": "markdown",
   "metadata": {},
   "source": [
    "---"
   ]
  },
  {
   "cell_type": "markdown",
   "metadata": {
    "slideshow": {
     "slide_type": "slide"
    }
   },
   "source": [
    "### The `Matrix` Array Type"
   ]
  },
  {
   "cell_type": "markdown",
   "metadata": {
    "slideshow": {
     "slide_type": "subslide"
    }
   },
   "source": [
    "In addition to the `numpy.ndarray` type, NumPy also support a very specific data type called `Matrix`. \n",
    "\n",
    "This special type of object has been introduced to allow for API and programming compatibility with\n",
    "MATLAB®. \n",
    "\n",
    "**Note**: The most relevant feature of this new _array type_ is the behavior of the standard arithmetic operators `+, -, *` to use matrix algebra, which work as they would in MATLAB."
   ]
  },
  {
   "cell_type": "code",
   "execution_count": 2,
   "metadata": {
    "slideshow": {
     "slide_type": "subslide"
    }
   },
   "outputs": [],
   "source": [
    "from numpy import matrix"
   ]
  },
  {
   "cell_type": "code",
   "execution_count": 3,
   "metadata": {},
   "outputs": [],
   "source": [
    "a = np.arange(0, 5)\n",
    "A = np.array([[n+m*10 for n in range(5)] for m in range(5)])"
   ]
  },
  {
   "cell_type": "code",
   "execution_count": 4,
   "metadata": {},
   "outputs": [
    {
     "data": {
      "text/plain": [
       "array([0, 1, 2, 3, 4])"
      ]
     },
     "execution_count": 4,
     "metadata": {},
     "output_type": "execute_result"
    }
   ],
   "source": [
    "a"
   ]
  },
  {
   "cell_type": "code",
   "execution_count": 5,
   "metadata": {},
   "outputs": [
    {
     "data": {
      "text/plain": [
       "array([[ 0,  1,  2,  3,  4],\n",
       "       [10, 11, 12, 13, 14],\n",
       "       [20, 21, 22, 23, 24],\n",
       "       [30, 31, 32, 33, 34],\n",
       "       [40, 41, 42, 43, 44]])"
      ]
     },
     "execution_count": 5,
     "metadata": {},
     "output_type": "execute_result"
    }
   ],
   "source": [
    "A"
   ]
  },
  {
   "cell_type": "code",
   "execution_count": 6,
   "metadata": {
    "collapsed": false,
    "jupyter": {
     "outputs_hidden": false
    },
    "slideshow": {
     "slide_type": "fragment"
    }
   },
   "outputs": [],
   "source": [
    "M = matrix(A)\n",
    "v = matrix(a).T # make it a column vector"
   ]
  },
  {
   "cell_type": "code",
   "execution_count": 7,
   "metadata": {
    "collapsed": false,
    "jupyter": {
     "outputs_hidden": false
    },
    "slideshow": {
     "slide_type": "fragment"
    }
   },
   "outputs": [
    {
     "data": {
      "text/plain": [
       "array([0, 1, 2, 3, 4])"
      ]
     },
     "execution_count": 7,
     "metadata": {},
     "output_type": "execute_result"
    }
   ],
   "source": [
    "a"
   ]
  },
  {
   "cell_type": "code",
   "execution_count": 8,
   "metadata": {
    "collapsed": false,
    "jupyter": {
     "outputs_hidden": false
    },
    "slideshow": {
     "slide_type": "subslide"
    }
   },
   "outputs": [
    {
     "data": {
      "text/plain": [
       "matrix([[ 300,  310,  320,  330,  340],\n",
       "        [1300, 1360, 1420, 1480, 1540],\n",
       "        [2300, 2410, 2520, 2630, 2740],\n",
       "        [3300, 3460, 3620, 3780, 3940],\n",
       "        [4300, 4510, 4720, 4930, 5140]])"
      ]
     },
     "execution_count": 8,
     "metadata": {},
     "output_type": "execute_result"
    }
   ],
   "source": [
    "M * M"
   ]
  },
  {
   "cell_type": "code",
   "execution_count": 9,
   "metadata": {},
   "outputs": [
    {
     "data": {
      "text/plain": [
       "array([[ 300,  310,  320,  330,  340],\n",
       "       [1300, 1360, 1420, 1480, 1540],\n",
       "       [2300, 2410, 2520, 2630, 2740],\n",
       "       [3300, 3460, 3620, 3780, 3940],\n",
       "       [4300, 4510, 4720, 4930, 5140]])"
      ]
     },
     "execution_count": 9,
     "metadata": {},
     "output_type": "execute_result"
    }
   ],
   "source": [
    "A @ A  # @ operator equivalent to np.dot(A, A)"
   ]
  },
  {
   "cell_type": "code",
   "execution_count": 10,
   "metadata": {},
   "outputs": [
    {
     "data": {
      "text/plain": [
       "array([[   0,    1,    4,    9,   16],\n",
       "       [ 100,  121,  144,  169,  196],\n",
       "       [ 400,  441,  484,  529,  576],\n",
       "       [ 900,  961, 1024, 1089, 1156],\n",
       "       [1600, 1681, 1764, 1849, 1936]])"
      ]
     },
     "execution_count": 10,
     "metadata": {},
     "output_type": "execute_result"
    }
   ],
   "source": [
    "# Element wise multiplication in NumPy\n",
    "A * A"
   ]
  },
  {
   "cell_type": "code",
   "execution_count": 11,
   "metadata": {
    "collapsed": false,
    "jupyter": {
     "outputs_hidden": false
    },
    "slideshow": {
     "slide_type": "subslide"
    }
   },
   "outputs": [
    {
     "data": {
      "text/plain": [
       "matrix([[ 30],\n",
       "        [130],\n",
       "        [230],\n",
       "        [330],\n",
       "        [430]])"
      ]
     },
     "execution_count": 11,
     "metadata": {},
     "output_type": "execute_result"
    }
   ],
   "source": [
    "M * v"
   ]
  },
  {
   "cell_type": "code",
   "execution_count": 12,
   "metadata": {},
   "outputs": [
    {
     "data": {
      "text/plain": [
       "array([[  0,   1,   4,   9,  16],\n",
       "       [  0,  11,  24,  39,  56],\n",
       "       [  0,  21,  44,  69,  96],\n",
       "       [  0,  31,  64,  99, 136],\n",
       "       [  0,  41,  84, 129, 176]])"
      ]
     },
     "execution_count": 12,
     "metadata": {},
     "output_type": "execute_result"
    }
   ],
   "source": [
    "A * a"
   ]
  },
  {
   "cell_type": "code",
   "execution_count": 13,
   "metadata": {
    "collapsed": false,
    "jupyter": {
     "outputs_hidden": false
    },
    "slideshow": {
     "slide_type": "subslide"
    }
   },
   "outputs": [
    {
     "data": {
      "text/plain": [
       "matrix([[30]])"
      ]
     },
     "execution_count": 13,
     "metadata": {},
     "output_type": "execute_result"
    }
   ],
   "source": [
    "# inner product\n",
    "v.T * v"
   ]
  },
  {
   "cell_type": "code",
   "execution_count": 14,
   "metadata": {
    "collapsed": false,
    "jupyter": {
     "outputs_hidden": false
    },
    "slideshow": {
     "slide_type": "fragment"
    }
   },
   "outputs": [
    {
     "data": {
      "text/plain": [
       "matrix([[ 30],\n",
       "        [131],\n",
       "        [232],\n",
       "        [333],\n",
       "        [434]])"
      ]
     },
     "execution_count": 14,
     "metadata": {},
     "output_type": "execute_result"
    }
   ],
   "source": [
    "# with matrix objects, standard matrix algebra applies\n",
    "v + M*v"
   ]
  },
  {
   "cell_type": "markdown",
   "metadata": {
    "slideshow": {
     "slide_type": "subslide"
    }
   },
   "source": [
    "If we try to add, subtract or multiply objects with incomplatible shapes we get an error:"
   ]
  },
  {
   "cell_type": "code",
   "execution_count": 15,
   "metadata": {
    "collapsed": false,
    "jupyter": {
     "outputs_hidden": false
    },
    "slideshow": {
     "slide_type": "fragment"
    }
   },
   "outputs": [],
   "source": [
    "v_incompat = matrix(list(range(1, 7))).T"
   ]
  },
  {
   "cell_type": "code",
   "execution_count": 16,
   "metadata": {
    "collapsed": false,
    "jupyter": {
     "outputs_hidden": false
    },
    "slideshow": {
     "slide_type": "fragment"
    }
   },
   "outputs": [
    {
     "data": {
      "text/plain": [
       "((5, 5), (6, 1))"
      ]
     },
     "execution_count": 16,
     "metadata": {},
     "output_type": "execute_result"
    }
   ],
   "source": [
    "M.shape, v_incompat.shape"
   ]
  },
  {
   "cell_type": "code",
   "execution_count": 17,
   "metadata": {
    "collapsed": false,
    "jupyter": {
     "outputs_hidden": false
    },
    "slideshow": {
     "slide_type": "subslide"
    }
   },
   "outputs": [
    {
     "ename": "ValueError",
     "evalue": "shapes (5,5) and (6,1) not aligned: 5 (dim 1) != 6 (dim 0)",
     "output_type": "error",
     "traceback": [
      "\u001b[0;31m---------------------------------------------------------------------------\u001b[0m",
      "\u001b[0;31mValueError\u001b[0m                                Traceback (most recent call last)",
      "\u001b[0;32m<ipython-input-17-bd00a30033f6>\u001b[0m in \u001b[0;36m<module>\u001b[0;34m\u001b[0m\n\u001b[0;32m----> 1\u001b[0;31m \u001b[0mM\u001b[0m \u001b[0;34m*\u001b[0m \u001b[0mv_incompat\u001b[0m\u001b[0;34m\u001b[0m\u001b[0;34m\u001b[0m\u001b[0m\n\u001b[0m",
      "\u001b[0;32m~/anaconda3/envs/numpy-euroscipy/lib/python3.7/site-packages/numpy/matrixlib/defmatrix.py\u001b[0m in \u001b[0;36m__mul__\u001b[0;34m(self, other)\u001b[0m\n\u001b[1;32m    218\u001b[0m         \u001b[0;32mif\u001b[0m \u001b[0misinstance\u001b[0m\u001b[0;34m(\u001b[0m\u001b[0mother\u001b[0m\u001b[0;34m,\u001b[0m \u001b[0;34m(\u001b[0m\u001b[0mN\u001b[0m\u001b[0;34m.\u001b[0m\u001b[0mndarray\u001b[0m\u001b[0;34m,\u001b[0m \u001b[0mlist\u001b[0m\u001b[0;34m,\u001b[0m \u001b[0mtuple\u001b[0m\u001b[0;34m)\u001b[0m\u001b[0;34m)\u001b[0m \u001b[0;34m:\u001b[0m\u001b[0;34m\u001b[0m\u001b[0;34m\u001b[0m\u001b[0m\n\u001b[1;32m    219\u001b[0m             \u001b[0;31m# This promotes 1-D vectors to row vectors\u001b[0m\u001b[0;34m\u001b[0m\u001b[0;34m\u001b[0m\u001b[0;34m\u001b[0m\u001b[0m\n\u001b[0;32m--> 220\u001b[0;31m             \u001b[0;32mreturn\u001b[0m \u001b[0mN\u001b[0m\u001b[0;34m.\u001b[0m\u001b[0mdot\u001b[0m\u001b[0;34m(\u001b[0m\u001b[0mself\u001b[0m\u001b[0;34m,\u001b[0m \u001b[0masmatrix\u001b[0m\u001b[0;34m(\u001b[0m\u001b[0mother\u001b[0m\u001b[0;34m)\u001b[0m\u001b[0;34m)\u001b[0m\u001b[0;34m\u001b[0m\u001b[0;34m\u001b[0m\u001b[0m\n\u001b[0m\u001b[1;32m    221\u001b[0m         \u001b[0;32mif\u001b[0m \u001b[0misscalar\u001b[0m\u001b[0;34m(\u001b[0m\u001b[0mother\u001b[0m\u001b[0;34m)\u001b[0m \u001b[0;32mor\u001b[0m \u001b[0;32mnot\u001b[0m \u001b[0mhasattr\u001b[0m\u001b[0;34m(\u001b[0m\u001b[0mother\u001b[0m\u001b[0;34m,\u001b[0m \u001b[0;34m'__rmul__'\u001b[0m\u001b[0;34m)\u001b[0m \u001b[0;34m:\u001b[0m\u001b[0;34m\u001b[0m\u001b[0;34m\u001b[0m\u001b[0m\n\u001b[1;32m    222\u001b[0m             \u001b[0;32mreturn\u001b[0m \u001b[0mN\u001b[0m\u001b[0;34m.\u001b[0m\u001b[0mdot\u001b[0m\u001b[0;34m(\u001b[0m\u001b[0mself\u001b[0m\u001b[0;34m,\u001b[0m \u001b[0mother\u001b[0m\u001b[0;34m)\u001b[0m\u001b[0;34m\u001b[0m\u001b[0;34m\u001b[0m\u001b[0m\n",
      "\u001b[0;32m<__array_function__ internals>\u001b[0m in \u001b[0;36mdot\u001b[0;34m(*args, **kwargs)\u001b[0m\n",
      "\u001b[0;31mValueError\u001b[0m: shapes (5,5) and (6,1) not aligned: 5 (dim 1) != 6 (dim 0)"
     ]
    }
   ],
   "source": [
    "M * v_incompat"
   ]
  },
  {
   "cell_type": "markdown",
   "metadata": {
    "slideshow": {
     "slide_type": "subslide"
    }
   },
   "source": [
    "See also the related functions: `inner`, `outer`, `cross`, `kron`, `tensordot`. \n",
    "\n",
    "Try for example `help(inner)`."
   ]
  },
  {
   "cell_type": "markdown",
   "metadata": {},
   "source": [
    "---"
   ]
  },
  {
   "cell_type": "markdown",
   "metadata": {},
   "source": [
    "## Loading and Saving `.mat` file"
   ]
  },
  {
   "cell_type": "markdown",
   "metadata": {},
   "source": [
    "Let's create a `numpy.ndarray` object"
   ]
  },
  {
   "cell_type": "code",
   "execution_count": 21,
   "metadata": {
    "slideshow": {
     "slide_type": "fragment"
    }
   },
   "outputs": [],
   "source": [
    "A = np.random.rand(10000, 300, 50)  # note: this may take a while"
   ]
  },
  {
   "cell_type": "code",
   "execution_count": 22,
   "metadata": {
    "collapsed": false,
    "jupyter": {
     "outputs_hidden": false
    },
    "slideshow": {
     "slide_type": "subslide"
    }
   },
   "outputs": [
    {
     "data": {
      "text/plain": [
       "array([[[0.30788845, 0.60569692, 0.74159203, ..., 0.99513856,\n",
       "         0.86615676, 0.65581839],\n",
       "        [0.29972906, 0.1727805 , 0.73877596, ..., 0.57321798,\n",
       "         0.52657155, 0.15148499],\n",
       "        [0.91677054, 0.30289045, 0.47086303, ..., 0.91076997,\n",
       "         0.15659756, 0.74502433],\n",
       "        ...,\n",
       "        [0.16246413, 0.57601666, 0.64519549, ..., 0.04166688,\n",
       "         0.71115738, 0.75984878],\n",
       "        [0.99626814, 0.89529207, 0.89520696, ..., 0.927474  ,\n",
       "         0.46998733, 0.809978  ],\n",
       "        [0.52545775, 0.42922203, 0.40999633, ..., 0.7497839 ,\n",
       "         0.26582518, 0.68821719]],\n",
       "\n",
       "       [[0.93763072, 0.68660253, 0.03060252, ..., 0.08489496,\n",
       "         0.3368953 , 0.0040575 ],\n",
       "        [0.17680589, 0.44922269, 0.32552186, ..., 0.49081397,\n",
       "         0.7718607 , 0.91216332],\n",
       "        [0.48935017, 0.28293444, 0.57762148, ..., 0.64988995,\n",
       "         0.96036063, 0.62395338],\n",
       "        ...,\n",
       "        [0.77554755, 0.23174591, 0.80126054, ..., 0.34982511,\n",
       "         0.13648038, 0.63953428],\n",
       "        [0.4502637 , 0.74376194, 0.47531237, ..., 0.94077276,\n",
       "         0.64544446, 0.20241967],\n",
       "        [0.65158873, 0.93520847, 0.1153165 , ..., 0.92607143,\n",
       "         0.42194542, 0.49231582]],\n",
       "\n",
       "       [[0.60652634, 0.55707594, 0.7861307 , ..., 0.49618863,\n",
       "         0.26073645, 0.57230289],\n",
       "        [0.33445447, 0.51254754, 0.89760192, ..., 0.20161607,\n",
       "         0.54935607, 0.97355349],\n",
       "        [0.82742407, 0.13811956, 0.77549593, ..., 0.97417726,\n",
       "         0.75828111, 0.20726388],\n",
       "        ...,\n",
       "        [0.89885131, 0.95168761, 0.04908857, ..., 0.26560786,\n",
       "         0.19828306, 0.34056713],\n",
       "        [0.37462286, 0.00294645, 0.46417234, ..., 0.98287275,\n",
       "         0.63560479, 0.37498829],\n",
       "        [0.80824186, 0.77414402, 0.27137252, ..., 0.97397635,\n",
       "         0.73792667, 0.47235421]],\n",
       "\n",
       "       ...,\n",
       "\n",
       "       [[0.79534194, 0.19495982, 0.69419483, ..., 0.98484659,\n",
       "         0.07524489, 0.35898295],\n",
       "        [0.75246125, 0.1448565 , 0.31596133, ..., 0.97989236,\n",
       "         0.66466035, 0.09253075],\n",
       "        [0.13218267, 0.24674062, 0.93687433, ..., 0.26530807,\n",
       "         0.64653497, 0.25848279],\n",
       "        ...,\n",
       "        [0.01839164, 0.4127106 , 0.36428583, ..., 0.97212349,\n",
       "         0.867556  , 0.58971199],\n",
       "        [0.49075206, 0.80264193, 0.82420669, ..., 0.13249282,\n",
       "         0.70465219, 0.97575252],\n",
       "        [0.2735621 , 0.37780973, 0.19581884, ..., 0.55415141,\n",
       "         0.33630774, 0.62376131]],\n",
       "\n",
       "       [[0.95740591, 0.6409855 , 0.29668168, ..., 0.85582114,\n",
       "         0.02653775, 0.07433918],\n",
       "        [0.97968508, 0.7192658 , 0.96627464, ..., 0.25708965,\n",
       "         0.60037787, 0.8001345 ],\n",
       "        [0.98598865, 0.7660025 , 0.05743886, ..., 0.84864957,\n",
       "         0.5717346 , 0.48107095],\n",
       "        ...,\n",
       "        [0.04048004, 0.24279597, 0.43556563, ..., 0.74962769,\n",
       "         0.71872639, 0.08429666],\n",
       "        [0.09697323, 0.51034331, 0.6199531 , ..., 0.95157892,\n",
       "         0.52082535, 0.36331146],\n",
       "        [0.91967882, 0.47842183, 0.55403126, ..., 0.99053768,\n",
       "         0.68606411, 0.4186365 ]],\n",
       "\n",
       "       [[0.83101977, 0.7800826 , 0.52552153, ..., 0.45411436,\n",
       "         0.96688267, 0.14787061],\n",
       "        [0.76365986, 0.97841123, 0.99583821, ..., 0.96043423,\n",
       "         0.72406206, 0.97100977],\n",
       "        [0.92772653, 0.01373546, 0.59448744, ..., 0.64587074,\n",
       "         0.13641851, 0.40625453],\n",
       "        ...,\n",
       "        [0.24169963, 0.22511255, 0.85599095, ..., 0.75448232,\n",
       "         0.42633244, 0.31373371],\n",
       "        [0.28480721, 0.83815003, 0.77828307, ..., 0.52597019,\n",
       "         0.88834579, 0.09847287],\n",
       "        [0.32613764, 0.67313394, 0.82862416, ..., 0.87137257,\n",
       "         0.13503096, 0.0888404 ]]])"
      ]
     },
     "execution_count": 22,
     "metadata": {},
     "output_type": "execute_result"
    }
   ],
   "source": [
    "A"
   ]
  },
  {
   "cell_type": "markdown",
   "metadata": {},
   "source": [
    "### Introducing SciPy (ecosystem)"
   ]
  },
  {
   "cell_type": "markdown",
   "metadata": {},
   "source": [
    "![scipy](images/scipy.png)"
   ]
  },
  {
   "cell_type": "markdown",
   "metadata": {},
   "source": [
    "### `scipy.io`"
   ]
  },
  {
   "cell_type": "code",
   "execution_count": 20,
   "metadata": {
    "collapsed": false,
    "jupyter": {
     "outputs_hidden": false
    },
    "slideshow": {
     "slide_type": "fragment"
    }
   },
   "outputs": [],
   "source": [
    "from scipy import io as spio"
   ]
  },
  {
   "cell_type": "markdown",
   "metadata": {},
   "source": [
    "### NumPy $\\mapsto$ MATLAB :  `scipy.io.savemat`"
   ]
  },
  {
   "cell_type": "code",
   "execution_count": 23,
   "metadata": {},
   "outputs": [],
   "source": [
    "spio.savemat('numpy_to.mat', {'A': A}, oned_as='row')  # savemat expects a dictionary"
   ]
  },
  {
   "cell_type": "markdown",
   "metadata": {},
   "source": [
    "MATLAB $\\mapsto$ NumPy: `scipy.io.loadmat`"
   ]
  },
  {
   "cell_type": "code",
   "execution_count": 24,
   "metadata": {},
   "outputs": [],
   "source": [
    "data_dictionary = spio.loadmat('numpy_to.mat')\n"
   ]
  },
  {
   "cell_type": "code",
   "execution_count": 25,
   "metadata": {},
   "outputs": [
    {
     "data": {
      "text/plain": [
       "['__header__', '__version__', '__globals__', 'A']"
      ]
     },
     "execution_count": 25,
     "metadata": {},
     "output_type": "execute_result"
    }
   ],
   "source": [
    "list(data_dictionary.keys())"
   ]
  },
  {
   "cell_type": "code",
   "execution_count": 26,
   "metadata": {},
   "outputs": [
    {
     "data": {
      "text/plain": [
       "array([[[0.30788845, 0.60569692, 0.74159203, ..., 0.99513856,\n",
       "         0.86615676, 0.65581839],\n",
       "        [0.29972906, 0.1727805 , 0.73877596, ..., 0.57321798,\n",
       "         0.52657155, 0.15148499],\n",
       "        [0.91677054, 0.30289045, 0.47086303, ..., 0.91076997,\n",
       "         0.15659756, 0.74502433],\n",
       "        ...,\n",
       "        [0.16246413, 0.57601666, 0.64519549, ..., 0.04166688,\n",
       "         0.71115738, 0.75984878],\n",
       "        [0.99626814, 0.89529207, 0.89520696, ..., 0.927474  ,\n",
       "         0.46998733, 0.809978  ],\n",
       "        [0.52545775, 0.42922203, 0.40999633, ..., 0.7497839 ,\n",
       "         0.26582518, 0.68821719]],\n",
       "\n",
       "       [[0.93763072, 0.68660253, 0.03060252, ..., 0.08489496,\n",
       "         0.3368953 , 0.0040575 ],\n",
       "        [0.17680589, 0.44922269, 0.32552186, ..., 0.49081397,\n",
       "         0.7718607 , 0.91216332],\n",
       "        [0.48935017, 0.28293444, 0.57762148, ..., 0.64988995,\n",
       "         0.96036063, 0.62395338],\n",
       "        ...,\n",
       "        [0.77554755, 0.23174591, 0.80126054, ..., 0.34982511,\n",
       "         0.13648038, 0.63953428],\n",
       "        [0.4502637 , 0.74376194, 0.47531237, ..., 0.94077276,\n",
       "         0.64544446, 0.20241967],\n",
       "        [0.65158873, 0.93520847, 0.1153165 , ..., 0.92607143,\n",
       "         0.42194542, 0.49231582]],\n",
       "\n",
       "       [[0.60652634, 0.55707594, 0.7861307 , ..., 0.49618863,\n",
       "         0.26073645, 0.57230289],\n",
       "        [0.33445447, 0.51254754, 0.89760192, ..., 0.20161607,\n",
       "         0.54935607, 0.97355349],\n",
       "        [0.82742407, 0.13811956, 0.77549593, ..., 0.97417726,\n",
       "         0.75828111, 0.20726388],\n",
       "        ...,\n",
       "        [0.89885131, 0.95168761, 0.04908857, ..., 0.26560786,\n",
       "         0.19828306, 0.34056713],\n",
       "        [0.37462286, 0.00294645, 0.46417234, ..., 0.98287275,\n",
       "         0.63560479, 0.37498829],\n",
       "        [0.80824186, 0.77414402, 0.27137252, ..., 0.97397635,\n",
       "         0.73792667, 0.47235421]],\n",
       "\n",
       "       ...,\n",
       "\n",
       "       [[0.79534194, 0.19495982, 0.69419483, ..., 0.98484659,\n",
       "         0.07524489, 0.35898295],\n",
       "        [0.75246125, 0.1448565 , 0.31596133, ..., 0.97989236,\n",
       "         0.66466035, 0.09253075],\n",
       "        [0.13218267, 0.24674062, 0.93687433, ..., 0.26530807,\n",
       "         0.64653497, 0.25848279],\n",
       "        ...,\n",
       "        [0.01839164, 0.4127106 , 0.36428583, ..., 0.97212349,\n",
       "         0.867556  , 0.58971199],\n",
       "        [0.49075206, 0.80264193, 0.82420669, ..., 0.13249282,\n",
       "         0.70465219, 0.97575252],\n",
       "        [0.2735621 , 0.37780973, 0.19581884, ..., 0.55415141,\n",
       "         0.33630774, 0.62376131]],\n",
       "\n",
       "       [[0.95740591, 0.6409855 , 0.29668168, ..., 0.85582114,\n",
       "         0.02653775, 0.07433918],\n",
       "        [0.97968508, 0.7192658 , 0.96627464, ..., 0.25708965,\n",
       "         0.60037787, 0.8001345 ],\n",
       "        [0.98598865, 0.7660025 , 0.05743886, ..., 0.84864957,\n",
       "         0.5717346 , 0.48107095],\n",
       "        ...,\n",
       "        [0.04048004, 0.24279597, 0.43556563, ..., 0.74962769,\n",
       "         0.71872639, 0.08429666],\n",
       "        [0.09697323, 0.51034331, 0.6199531 , ..., 0.95157892,\n",
       "         0.52082535, 0.36331146],\n",
       "        [0.91967882, 0.47842183, 0.55403126, ..., 0.99053768,\n",
       "         0.68606411, 0.4186365 ]],\n",
       "\n",
       "       [[0.83101977, 0.7800826 , 0.52552153, ..., 0.45411436,\n",
       "         0.96688267, 0.14787061],\n",
       "        [0.76365986, 0.97841123, 0.99583821, ..., 0.96043423,\n",
       "         0.72406206, 0.97100977],\n",
       "        [0.92772653, 0.01373546, 0.59448744, ..., 0.64587074,\n",
       "         0.13641851, 0.40625453],\n",
       "        ...,\n",
       "        [0.24169963, 0.22511255, 0.85599095, ..., 0.75448232,\n",
       "         0.42633244, 0.31373371],\n",
       "        [0.28480721, 0.83815003, 0.77828307, ..., 0.52597019,\n",
       "         0.88834579, 0.09847287],\n",
       "        [0.32613764, 0.67313394, 0.82862416, ..., 0.87137257,\n",
       "         0.13503096, 0.0888404 ]]])"
      ]
     },
     "execution_count": 26,
     "metadata": {},
     "output_type": "execute_result"
    }
   ],
   "source": [
    "data_dictionary['A']"
   ]
  },
  {
   "cell_type": "code",
   "execution_count": 27,
   "metadata": {},
   "outputs": [],
   "source": [
    "A_load = data_dictionary['A']"
   ]
  },
  {
   "cell_type": "code",
   "execution_count": 28,
   "metadata": {},
   "outputs": [
    {
     "data": {
      "text/plain": [
       "True"
      ]
     },
     "execution_count": 28,
     "metadata": {},
     "output_type": "execute_result"
    }
   ],
   "source": [
    "np.all(A == A_load)"
   ]
  },
  {
   "cell_type": "code",
   "execution_count": 30,
   "metadata": {},
   "outputs": [
    {
     "data": {
      "text/plain": [
       "numpy.ndarray"
      ]
     },
     "execution_count": 30,
     "metadata": {},
     "output_type": "execute_result"
    }
   ],
   "source": [
    "type(A_load)"
   ]
  }
 ],
 "metadata": {
  "kernelspec": {
   "display_name": "Python 3.7 (NumPy EuroSciPy)",
   "language": "python",
   "name": "numpy-euroscipy"
  },
  "language_info": {
   "codemirror_mode": {
    "name": "ipython",
    "version": 3
   },
   "file_extension": ".py",
   "mimetype": "text/x-python",
   "name": "python",
   "nbconvert_exporter": "python",
   "pygments_lexer": "ipython3",
   "version": "3.7.3"
  }
 },
 "nbformat": 4,
 "nbformat_minor": 4
}
